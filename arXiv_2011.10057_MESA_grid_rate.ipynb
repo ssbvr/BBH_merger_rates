{
 "cells": [
  {
   "cell_type": "code",
   "execution_count": 1,
   "id": "c75b1516-c433-4dcb-87d4-0c8ac2a11ae5",
   "metadata": {},
   "outputs": [],
   "source": [
    "import numpy as np\n",
    "import pandas as pd\n",
    "from cosmological_weight import CosmologicalWeight"
   ]
  },
  {
   "cell_type": "code",
   "execution_count": 2,
   "id": "966ace05-26db-42fd-b8b8-e26fd43e8599",
   "metadata": {},
   "outputs": [],
   "source": [
    "# SFR model parameters\n",
    "SFR = 'Madau+Fragos17'\n",
    "sigma_SFR = 'Bavera+20'\n",
    "Zsun = 'Grevesse+Sauval98'\n",
    "Z_max = 2*0.017 # truncate log-normal metallicity distribution at 2*Zsun"
   ]
  },
  {
   "cell_type": "code",
   "execution_count": 3,
   "id": "2fc5cae9-b354-4e62-b6d0-23669a06ceb8",
   "metadata": {},
   "outputs": [],
   "source": [
    "# read CHE MESA grid post processed with POSYDON see arXiv_2011.10057\n",
    "df = pd.read_csv('./datasets/arXiv_2011.10057_CHE.csv.gz', compression='gzip')"
   ]
  },
  {
   "cell_type": "code",
   "execution_count": 4,
   "id": "0162aba7-4f6a-4be4-93e5-4366d9e067a0",
   "metadata": {},
   "outputs": [
    {
     "name": "stderr",
     "output_type": "stream",
     "text": [
      "100%|██████████████████████████████████████████████████████████████████████████████████████████████████████████████████████████████████| 138/138 [00:10<00:00, 13.06it/s]\n"
     ]
    },
    {
     "name": "stdout",
     "output_type": "stream",
     "text": [
      "CHE: BBH merger rate density in the local Universe (z~0.00): 32.22 Gpc^-3 yr^-1\n"
     ]
    }
   ],
   "source": [
    "# match df.columns to class_variables\n",
    "class_variables = ['metallicity', 'm_star1_i', 'q_i', 'm_BH1', 'p_i', 'p_f', 'spin_BH1',\n",
    "                   'Dt_binary', 'Dt_inspiral', 'e_f', 'm_BH2','spin_BH2']\n",
    "    \n",
    "pop = CosmologicalWeight(df, columns=df.columns.tolist(), class_variables=class_variables,\n",
    "                         SFR=SFR, sigma_SFR=sigma_SFR, Z_max=Z_max, Zsun=Zsun,\n",
    "                         MESA_grid=True, reject_ZAMS_RLOF=False)\n",
    "\n",
    "sensitivity = 'infinite'\n",
    "pop.RunBBHsSimulation(sensitivity, flag_pdet=False, path_to_dir='../')\n",
    "index_BBH, z_formation_BBH, z_merger_BBH, s_i_BBH = pop.loadBBHsSimulation(sensitivity, path_to_dir='../')\n",
    "z = pop.getRedshiftBinCenter()\n",
    "R_BBH= pop.RateDensity(s_i_BBH, z_merger_BBH, Type='BBHs', sensitivity='infinite')\n",
    "print('CHE: BBH merger rate density in the local Universe (z~%1.2f):'%z[0], round(R_BBH[0],2), 'Gpc^-3 yr^-1')"
   ]
  },
  {
   "cell_type": "code",
   "execution_count": 5,
   "id": "363233af-b1a5-4555-8f5f-9b2d99d9ebf0",
   "metadata": {},
   "outputs": [
    {
     "name": "stderr",
     "output_type": "stream",
     "text": [
      "/Users/simone/Google Drive/github/BBH_merging_rates/utils.py:28: RuntimeWarning: invalid value encountered in double_scalars\n",
      "  return dayyer * ((separation / aursun)**3.0 / (m1 + m2)) ** 0.5\n"
     ]
    },
    {
     "name": "stdout",
     "output_type": "stream",
     "text": [
      "Binaries ZAMS RLOF in the dataset 1987 / 5073\n"
     ]
    },
    {
     "name": "stderr",
     "output_type": "stream",
     "text": [
      "100%|██████████████████████████████████████████████████████████████████████████████████████████████████████████████████████████████████| 138/138 [00:05<00:00, 27.03it/s]\n"
     ]
    },
    {
     "name": "stdout",
     "output_type": "stream",
     "text": [
      "CHE: BBH merger rate density in the local Universe (z~0.00): 8.47 Gpc^-3 yr^-1\n"
     ]
    }
   ],
   "source": [
    "# BBH merger rate excluding binaries which are RLOF at ZAMS \n",
    "pop = CosmologicalWeight(df, columns=df.columns.tolist(), class_variables=class_variables,\n",
    "                         SFR=SFR, sigma_SFR=sigma_SFR, Z_max=Z_max, Zsun=Zsun,\n",
    "                         MESA_grid=True, reject_ZAMS_RLOF=True)\n",
    "\n",
    "sensitivity = 'infinite'\n",
    "pop.RunBBHsSimulation(sensitivity, flag_pdet=False, path_to_dir='../')\n",
    "index_BBH, z_formation_BBH, z_merger_BBH, s_i_BBH = pop.loadBBHsSimulation(sensitivity, path_to_dir='../')\n",
    "z = pop.getRedshiftBinCenter()\n",
    "R_BBH= pop.RateDensity(s_i_BBH, z_merger_BBH, Type='BBHs', sensitivity='infinite')\n",
    "print('CHE: BBH merger rate density in the local Universe (z~%1.2f):'%z[0], round(R_BBH[0],2), 'Gpc^-3 yr^-1')"
   ]
  },
  {
   "cell_type": "code",
   "execution_count": null,
   "id": "d7fc7dae-4cd5-4edc-a25e-6d047525aa23",
   "metadata": {},
   "outputs": [],
   "source": []
  }
 ],
 "metadata": {
  "kernelspec": {
   "display_name": "Python 3 (ipykernel)",
   "language": "python",
   "name": "python3"
  },
  "language_info": {
   "codemirror_mode": {
    "name": "ipython",
    "version": 3
   },
   "file_extension": ".py",
   "mimetype": "text/x-python",
   "name": "python",
   "nbconvert_exporter": "python",
   "pygments_lexer": "ipython3",
   "version": "3.7.12"
  }
 },
 "nbformat": 4,
 "nbformat_minor": 5
}
